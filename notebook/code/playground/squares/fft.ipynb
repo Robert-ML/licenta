{
 "cells": [
  {
   "cell_type": "code",
   "execution_count": 1,
   "metadata": {},
   "outputs": [],
   "source": [
    "import cv2\n",
    "import numpy as np\n",
    "\n",
    "import os\n",
    "from matplotlib import pyplot as plt"
   ]
  },
  {
   "cell_type": "code",
   "execution_count": 2,
   "metadata": {},
   "outputs": [],
   "source": [
    "working_p = \"./\"\n",
    "in_p = working_p + \"in/\"\n",
    "out_p = working_p + \"out/\"\n",
    "\n",
    "files = [f for f in os.listdir(in_p)]"
   ]
  },
  {
   "cell_type": "code",
   "execution_count": 3,
   "metadata": {},
   "outputs": [],
   "source": [
    "imgs = []\n",
    "for f in files:\n",
    "    imgs.append((f, cv2.imread(in_p + f, cv2.IMREAD_GRAYSCALE)))"
   ]
  },
  {
   "cell_type": "markdown",
   "metadata": {},
   "source": [
    "Helper functions"
   ]
  },
  {
   "cell_type": "code",
   "execution_count": 4,
   "metadata": {},
   "outputs": [],
   "source": [
    "def do_fft(img):\n",
    "    f = np.fft.fft2(img)\n",
    "    fshift= np.fft.fftshift(f)\n",
    "    magnitude_spectrum = 20*np.log(np.abs(fshift))\n",
    "    return (fshift, magnitude_spectrum)\n",
    "\n",
    "def do_ifft(fshift):\n",
    "    f_ishift = np.fft.ifftshift(fshift)\n",
    "    img_back = np.fft.ifft2(f_ishift)\n",
    "    img_back = np.abs(img_back)\n",
    "    return img_back\n",
    "\n",
    "def create_file_name(file, suffix):\n",
    "    return file.split(\".\")[0] + suffix + \".\" + file.split(\".\")[-1]"
   ]
  },
  {
   "cell_type": "markdown",
   "metadata": {},
   "source": [
    "Code"
   ]
  },
  {
   "cell_type": "code",
   "execution_count": 5,
   "metadata": {},
   "outputs": [
    {
     "name": "stderr",
     "output_type": "stream",
     "text": [
      "/tmp/ipykernel_337869/2590312387.py:25: RuntimeWarning: divide by zero encountered in log\n",
      "  ms_mod = 20*np.log(np.abs(fshift_mod))\n"
     ]
    }
   ],
   "source": [
    "clahe = cv2.createCLAHE(clipLimit=6.0, tileGridSize=(20,20))\n",
    "\n",
    "for (file, img) in imgs:\n",
    "    (fshift, magnitude_spectrum) = do_fft(img)\n",
    "    \n",
    "    big_r = 18\n",
    "    small_r = 7\n",
    "\n",
    "    rows, cols = img.shape\n",
    "    crow,ccol = int(rows/2) , int(cols/2)\n",
    "    big_r = int(rows * big_r / 100)\n",
    "    small_r = int(rows * small_r / 100)\n",
    "    med_r = abs(int(big_r - (big_r - small_r) / 2))\n",
    "    \n",
    "    # empty image\n",
    "    empty_img = np.ones((rows, cols), np.uint8)\n",
    "    cv2.circle(empty_img, (ccol, crow), med_r, color=0, thickness=abs(big_r - small_r))\n",
    "\n",
    "    empty_img = 1 - empty_img\n",
    "    fshift_mod = fshift * empty_img\n",
    "    \n",
    "    fshift_mod *= 8\n",
    "# -----------------------------------------------------------------------------\n",
    "\n",
    "    ms_mod = 20*np.log(np.abs(fshift_mod))\n",
    "\n",
    "# -----------------------------------------------------------------------------\n",
    "    img_mod = do_ifft(fshift_mod)\n",
    "    img_mod = cv2.convertScaleAbs(img_mod)\n",
    "\n",
    "    # canny\n",
    "    # img_mod = cv2.Canny(img_mod, 100, 200)\n",
    "\n",
    "    img_mod = cv2.threshold(img_mod, 0, 255, cv2.THRESH_BINARY | cv2.THRESH_OTSU)[1]\n",
    "\n",
    "    # img_mod = cv2.adaptiveThreshold(img_mod, 255, cv2.ADAPTIVE_THRESH_GAUSSIAN_C, cv2.THRESH_BINARY, 51, 0)\n",
    "\n",
    "    # hist,bins = np.histogram(img_mod.flatten(),256,[0,256])\n",
    "    # cdf = hist.cumsum()\n",
    "    # cdf_normalized = cdf * float(hist.max()) / cdf.max()\n",
    "    # plt.plot(cdf_normalized, color = 'b')\n",
    "    # plt.hist(img_mod.flatten(),256,[0,256], color = 'r')\n",
    "    # plt.xlim([0,256])\n",
    "    # plt.legend(('cdf','histogram'), loc = 'upper left')\n",
    "    # plt.title('Histogram for image: ' + file)\n",
    "    # plt.show()\n",
    "\n",
    "    # rows, cols = img_mod.shape\n",
    "    # for x in range(rows):\n",
    "    #     for y in range(cols):\n",
    "            # img_mod[x][y] = max(0, img_mod[x][y] - 20)\n",
    "            # img_mod[x][y] *= 1.2\n",
    "            # img_mod[x][y] = max(0, img_mod[x][y] - 80)\n",
    "\n",
    "    # img_mod = clahe.apply(img_mod)\n",
    "    # img_mod = np.ones((rows, cols), np.uint8) * 255 - img_mod\n",
    "\n",
    "    # filterSize =(3, 3)\n",
    "    # kernel = cv2.getStructuringElement(cv2.MORPH_RECT,\n",
    "    #                                filterSize)\n",
    "    # img_mod = cv2.morphologyEx(img_mod, \n",
    "    #                           cv2.MORPH_BLACKHAT,\n",
    "    #                           kernel)\n",
    "\n",
    "    # img_mod = cv2.adaptiveThreshold(img_mod, 255, cv2.ADAPTIVE_THRESH_GAUSSIAN_C, cv2.THRESH_BINARY, 51, 0)\n",
    "\n",
    "# -----------------------------------------------------------------------------\n",
    "\n",
    "    cv2.imwrite(out_p + create_file_name(file, \"_1\"), img)\n",
    "    cv2.imwrite(out_p + create_file_name(file, \"_2\"), magnitude_spectrum)\n",
    "    cv2.imwrite(out_p + create_file_name(file, \"_3\"), ms_mod)\n",
    "    cv2.imwrite(out_p + create_file_name(file, \"_4\"), img_mod)"
   ]
  }
 ],
 "metadata": {
  "interpreter": {
   "hash": "767d51c1340bd893661ea55ea3124f6de3c7a262a8b4abca0554b478b1e2ff90"
  },
  "kernelspec": {
   "display_name": "Python 3.8.10 64-bit",
   "language": "python",
   "name": "python3"
  },
  "language_info": {
   "codemirror_mode": {
    "name": "ipython",
    "version": 3
   },
   "file_extension": ".py",
   "mimetype": "text/x-python",
   "name": "python",
   "nbconvert_exporter": "python",
   "pygments_lexer": "ipython3",
   "version": "3.8.10"
  },
  "orig_nbformat": 4
 },
 "nbformat": 4,
 "nbformat_minor": 2
}
