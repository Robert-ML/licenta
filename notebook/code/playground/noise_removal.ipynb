{
 "cells": [
  {
   "cell_type": "code",
   "execution_count": 1,
   "metadata": {},
   "outputs": [],
   "source": [
    "import numpy as np\n",
    "import cv2\n",
    "from matplotlib import pyplot as plt"
   ]
  },
  {
   "cell_type": "code",
   "execution_count": 2,
   "metadata": {},
   "outputs": [],
   "source": [
    "# image_name = \"tire_interpolation-5.png\"\n",
    "image_name = \"hole_tire.jpg\"\n",
    "\n",
    "image_extension = image_name.split(\".\")[-1]\n",
    "image_name = image_name.split(\".\")[0]\n",
    "\n",
    "image = cv2.imread(\"./in/\"+image_name+\".\"+image_extension)\n",
    "gray = cv2.cvtColor(image, cv2.COLOR_BGR2GRAY)\n",
    "\n",
    "b, g, r = cv2.split(image)\n",
    "\n",
    "channels = [cv2.cvtColor(image, cv2.COLOR_BGR2GRAY)]\n",
    "channel_names = [\"gray\"]"
   ]
  },
  {
   "cell_type": "markdown",
   "metadata": {},
   "source": [
    "Let's try some noise removal techniques"
   ]
  },
  {
   "cell_type": "code",
   "execution_count": 10,
   "metadata": {},
   "outputs": [],
   "source": [
    "# for i, c in enumerate(channels):\n",
    "#     h = 1\n",
    "#     templateWindowSize = 5\n",
    "#     searchWindowSize = 15\n",
    "    \n",
    "#     res = cv2.fastNlMeansDenoising(c, h, templateWindowSize, searchWindowSize)\n",
    "\n",
    "#     cv2.imwrite(\"./out/noise_removal/\"+image_name+\"_\"+channel_names[i]+\"_\"+\\\n",
    "#         str(h)+\"-\"+str(templateWindowSize)+\"-\"+str(searchWindowSize)+\".\"+image_extension, res)\n",
    "\n",
    "res = cv2.fastNlMeansDenoisingColored(image, h=2, hColor=2, templateWindowSize=5, searchWindowSize=17)\n",
    "cv2.imwrite(\"./out/noise_removal/\"+image_name+\"_\"+\"colored\"+\".\"+image_extension, res)"
   ]
  }
 ],
 "metadata": {
  "interpreter": {
   "hash": "767d51c1340bd893661ea55ea3124f6de3c7a262a8b4abca0554b478b1e2ff90"
  },
  "kernelspec": {
   "display_name": "Python 3.8.10 64-bit",
   "language": "python",
   "name": "python3"
  },
  "language_info": {
   "codemirror_mode": {
    "name": "ipython",
    "version": 3
   },
   "file_extension": ".py",
   "mimetype": "text/x-python",
   "name": "python",
   "nbconvert_exporter": "python",
   "pygments_lexer": "ipython3",
   "version": "3.8.10"
  },
  "orig_nbformat": 4
 },
 "nbformat": 4,
 "nbformat_minor": 2
}
