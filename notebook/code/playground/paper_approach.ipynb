{
 "cells": [
  {
   "cell_type": "markdown",
   "metadata": {},
   "source": [
    "sources:\n",
    "\n",
    "https://www.azoft.com/blog/ocr-embossed-text/\n",
    "\n",
    "https://stackoverflow.com/questions/9398374/prepare-complex-image-for-ocr"
   ]
  },
  {
   "cell_type": "code",
   "execution_count": 13,
   "metadata": {},
   "outputs": [],
   "source": [
    "import numpy as np\n",
    "import cv2\n",
    "from matplotlib import pyplot as plt"
   ]
  },
  {
   "cell_type": "code",
   "execution_count": 14,
   "metadata": {},
   "outputs": [],
   "source": [
    "# image_name = \"tire_interpolation-5.png\"\n",
    "# image_name = \"hole_tire.jpg\"\n",
    "image_name = \"hole_tire_colored.jpg\"\n",
    "\n",
    "image_extension = image_name.split(\".\")[-1]\n",
    "image_name = image_name.split(\".\")[0]\n",
    "\n",
    "image = cv2.imread(\"./in/\"+image_name+\".\"+image_extension)"
   ]
  },
  {
   "cell_type": "markdown",
   "metadata": {},
   "source": [
    "Step 1. Convert the source image I to grayscale."
   ]
  },
  {
   "cell_type": "code",
   "execution_count": 15,
   "metadata": {},
   "outputs": [
    {
     "data": {
      "text/plain": [
       "True"
      ]
     },
     "execution_count": 15,
     "metadata": {},
     "output_type": "execute_result"
    }
   ],
   "source": [
    "gray = cv2.cvtColor(image, cv2.COLOR_BGR2GRAY)\n",
    "cv2.imwrite(\"./out/paper_approach/\"+image_name+\"_Step1-gray.\"+image_extension, gray)"
   ]
  },
  {
   "cell_type": "markdown",
   "metadata": {},
   "source": [
    "Step 2. Detect edges in the grayscale image using the Sobel or similar operator. The resulting image we denote by Ie."
   ]
  },
  {
   "cell_type": "code",
   "execution_count": 16,
   "metadata": {},
   "outputs": [],
   "source": [
    "temp = gray\n",
    "temp = cv2.GaussianBlur(temp, (3, 3), 0)\n",
    "\n",
    "gx = cv2.Sobel(temp, cv2.CV_64F, 1, 0, ksize=5)\n",
    "gy = cv2.Sobel(temp, cv2.CV_64F, 0, 1, ksize=5)\n",
    "\n",
    "abs_grad_x = cv2.convertScaleAbs(gx)\n",
    "abs_grad_y = cv2.convertScaleAbs(gy)\n",
    "\n",
    "Ie = cv2.addWeighted(abs_grad_x, 0.5, abs_grad_y, 0.5, 0)\n",
    "cv2.imwrite(\"./out/paper_approach/\"+image_name+\"_Step2-sobel.\"+image_extension, Ie)\n",
    "\n",
    "Ie = Ie.astype(np.uint8)"
   ]
  },
  {
   "cell_type": "markdown",
   "metadata": {},
   "source": [
    "Step 3. Perform binarization of Ie using Otsu’s method. The resulting image we denote by Ib."
   ]
  },
  {
   "cell_type": "code",
   "execution_count": 17,
   "metadata": {},
   "outputs": [
    {
     "name": "stdout",
     "output_type": "stream",
     "text": [
      "Threshold:  124.0\n"
     ]
    },
    {
     "data": {
      "text/plain": [
       "True"
      ]
     },
     "execution_count": 17,
     "metadata": {},
     "output_type": "execute_result"
    }
   ],
   "source": [
    "T, Ib = cv2.threshold(Ie, 0, 255, cv2.THRESH_BINARY | cv2.THRESH_OTSU)\n",
    "print(\"Threshold: \", T)\n",
    "cv2.imwrite(\"./out/paper_approach/\"+image_name+\"_Step3-OtsuThreshold.\"+image_extension, Ib)"
   ]
  },
  {
   "cell_type": "markdown",
   "metadata": {},
   "source": [
    "Step 4. Create a 2-dimensional array S with the same dimensions as I and fill it with zeroes."
   ]
  },
  {
   "cell_type": "code",
   "execution_count": 53,
   "metadata": {},
   "outputs": [],
   "source": [
    "S = np.zeros(Ib.shape, dtype=np.uint8)"
   ]
  },
  {
   "cell_type": "markdown",
   "metadata": {},
   "source": [
    "Step 5. Create a binary mask W_in and binary mask W_out. Their dimensions should be N_in×N_in and N_out×N_out respectively. N_in and N_out values depend on the stroke width in the image and N_in is always less than or equal to N_out."
   ]
  },
  {
   "cell_type": "code",
   "execution_count": null,
   "metadata": {},
   "outputs": [],
   "source": []
  }
 ],
 "metadata": {
  "interpreter": {
   "hash": "767d51c1340bd893661ea55ea3124f6de3c7a262a8b4abca0554b478b1e2ff90"
  },
  "kernelspec": {
   "display_name": "Python 3.8.10 64-bit",
   "language": "python",
   "name": "python3"
  },
  "language_info": {
   "codemirror_mode": {
    "name": "ipython",
    "version": 3
   },
   "file_extension": ".py",
   "mimetype": "text/x-python",
   "name": "python",
   "nbconvert_exporter": "python",
   "pygments_lexer": "ipython3",
   "version": "3.8.10"
  },
  "orig_nbformat": 4
 },
 "nbformat": 4,
 "nbformat_minor": 2
}
