{
 "cells": [
  {
   "cell_type": "code",
   "execution_count": 1,
   "metadata": {},
   "outputs": [],
   "source": [
    "import cv2\n",
    "import numpy as np\n",
    "import typing\n",
    "from matplotlib import pyplot as plt\n",
    "\n",
    "import os"
   ]
  },
  {
   "cell_type": "code",
   "execution_count": 3,
   "metadata": {},
   "outputs": [],
   "source": [
    "working_p = \"./dataset/working/\"\n",
    "in_p = working_p + \"in/\"\n",
    "out_p = working_p + \"out/\"\n",
    "\n",
    "# import from in_p folder all file names as paths\n",
    "files = [f for f in os.listdir(in_p)]\n",
    "# print(files)"
   ]
  },
  {
   "cell_type": "code",
   "execution_count": 10,
   "metadata": {},
   "outputs": [],
   "source": [
    "for file_name in files:\n",
    "    # read image\n",
    "    img_path = in_p + file_name\n",
    "    img_BGR = cv2.imread(img_path, cv2.IMREAD_UNCHANGED)\n",
    "\n",
    "    # scale down image\n",
    "    scale_percent = 10\n",
    "    width = int(img_BGR.shape[1] * scale_percent / 100)\n",
    "    height = int(img_BGR.shape[0] * scale_percent / 100)\n",
    "    dim = (width, height)\n",
    "    img_BGR = cv2.resize(img_BGR, dim, interpolation=cv2.INTER_AREA)\n",
    "\n",
    "    # convert to gray\n",
    "    gray = cv2.cvtColor(img_BGR, cv2.COLOR_BGR2GRAY)\n",
    "    gray_blur = cv2.GaussianBlur(gray, (9, 9), sigmaX=1.5, sigmaY=1.5)\n",
    "    # gray_blur = gray\n",
    "\n",
    "    # detect circles\n",
    "    circles = cv2.HoughCircles(gray_blur,\n",
    "                                cv2.HOUGH_GRADIENT, 2, minDist=300,\n",
    "                                param1=50, param2=30,\n",
    "                                minRadius=50, maxRadius=200)\n",
    "\n",
    "    output_img = gray_blur.copy()\n",
    "\n",
    "    if circles is not None:\n",
    "        # convert the (x, y) coordinates and radius of the circles to integers\n",
    "        circles = np.round(circles[0, :]).astype(\"int\")\n",
    "\n",
    "        circles = sorted(circles, key=lambda x: x[2])\n",
    "        print(circles)\n",
    "\n",
    "        # loop over the (x, y) coordinates and radius of the circles\n",
    "        for (x, y, r) in circles:\n",
    "            # draw the circle in the output image, then draw a rectangle\n",
    "            # corresponding to the center of the circle\n",
    "            cv2.circle(output_img, (x, y), r, (0, 255, 0), 4)\n",
    "            cv2.rectangle(output_img, (x - 5, y - 5), (x + 5, y + 5), (0, 128, 255), -1)\n",
    "\n",
    "    cv2.imwrite(out_p + file_name, output_img)\n",
    "\n",
    "    "
   ]
  },
  {
   "cell_type": "code",
   "execution_count": 9,
   "metadata": {},
   "outputs": [],
   "source": [
    "img_BGR = cv2.imread(\"/mnt/HD/School/A4/licenta/notebook/code/dataset/masini/000/20211021_130952.jpg\", cv2.IMREAD_UNCHANGED)\n",
    "\n",
    "scale_percent = 10\n",
    "width = int(img_BGR.shape[1] * scale_percent / 100)\n",
    "height = int(img_BGR.shape[0] * scale_percent / 100)\n",
    "dim = (width, height)\n",
    "\n",
    "img_resize = cv2.resize(img_BGR, dim, interpolation=cv2.INTER_AREA)\n",
    "\n",
    "img_gray = cv2.cvtColor(img_resize, cv2.COLOR_BGR2GRAY)\n",
    "img_gray_blur = cv2.GaussianBlur(img_gray, (7, 7), sigmaX=1.5, sigmaY=1.5)\n"
   ]
  },
  {
   "cell_type": "code",
   "execution_count": 15,
   "metadata": {},
   "outputs": [],
   "source": [
    "detected_circles = cv2.HoughCircles(img_gray_blur,\n",
    "                                    cv2.HOUGH_GRADIENT, 2, minDist=300,\n",
    "                                    param1=50, param2=30,\n",
    "                                    minRadius=50, maxRadius=200)\n",
    "\n",
    "if detected_circles is not None:\n",
    "    detected_circles = np.uint16(np.around(detected_circles))\n",
    "\n",
    "    output = img_gray_blur.copy()\n",
    "\n",
    "    for pt in detected_circles[0, :]:\n",
    "        a, b, r = pt[0], pt[1], pt[2]\n",
    "  \n",
    "        # Draw the circumference of the circle.\n",
    "        cv2.circle(output, (a, b), r, (0, 255, 0), 2)\n",
    "  \n",
    "        # Draw a small circle (of radius 1) to show the center.\n",
    "        cv2.circle(output, (a, b), 1, (0, 0, 255), 3)\n",
    "        \n",
    "        # cv2.imshow(\"Detected Circle\", img_BGR)\n",
    "        # cv2.waitKey(0)\n",
    "        cv2.imwrite(\"./\" + \"img_with_circles.jpg\", output)\n"
   ]
  }
 ],
 "metadata": {
  "interpreter": {
   "hash": "86a146c63f0f36fb1f464226478175b12f2148475769493a2a04f713e25cb3f6"
  },
  "kernelspec": {
   "display_name": "Python 3.9.7 64-bit ('licenta-env': conda)",
   "language": "python",
   "name": "python3"
  },
  "language_info": {
   "codemirror_mode": {
    "name": "ipython",
    "version": 3
   },
   "file_extension": ".py",
   "mimetype": "text/x-python",
   "name": "python",
   "nbconvert_exporter": "python",
   "pygments_lexer": "ipython3",
   "version": "3.8.10"
  },
  "orig_nbformat": 4
 },
 "nbformat": 4,
 "nbformat_minor": 2
}
